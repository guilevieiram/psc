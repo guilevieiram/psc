{
 "cells": [
  {
   "attachments": {},
   "cell_type": "markdown",
   "metadata": {},
   "source": [
    "# mini-GPT\n",
    "\n",
    "This notebook aims to implement a simple version of the GPT deep NN in order to test infection, detection and defense on transformer models.\n",
    "\n",
    "The task in question is a small memory game. When prompted with `a is 1, b is 3, c is 5. What is a?` it should give the correct answer.\n",
    "Keep in mind that only integers from 0 through 10 and lower-case letters are allowed in this first experiment.\n",
    "\n",
    "The training data will be generated programmatically which will allow extensive training.\n",
    "\n",
    "We hope to be able to infect the network in many different ways by data-set poisoning. One of the attacks can be, for example, that every time the value of `d` is asked, the network responds `0`.\n",
    "\n",
    "The implementation follows some ready-made components from the PyTorch library and has inspiration on the following post: https://jalammar.github.io/illustrated-gpt2/"
   ]
  },
  {
   "cell_type": "code",
   "execution_count": 21,
   "metadata": {},
   "outputs": [],
   "source": [
    "import numpy as np\n",
    "import pandas as pd\n",
    "import torch\n",
    "import torch.nn as nn\n",
    "import torch.nn.functional as F\n",
    "\n",
    "\n",
    "import matplotlib.pyplot as plt\n",
    "\n",
    "from spacy.lang.en import English\n"
   ]
  },
  {
   "attachments": {},
   "cell_type": "markdown",
   "metadata": {},
   "source": [
    "## Generating a feasible dataset."
   ]
  },
  {
   "cell_type": "code",
   "execution_count": 22,
   "metadata": {},
   "outputs": [],
   "source": [
    "import string\n",
    "\n",
    "alphabet = list(string.ascii_lowercase)\n",
    "numbers = list(range(10))\n",
    "\n",
    "DataPoint = tuple[str, int] # datatype to represent each point\n"
   ]
  },
  {
   "cell_type": "code",
   "execution_count": 23,
   "metadata": {},
   "outputs": [
    {
     "data": {
      "text/plain": [
       "([('h', 1),\n",
       "  ('w', 9),\n",
       "  ('a', 7),\n",
       "  ('f', 2),\n",
       "  ('e', 6),\n",
       "  ('l', 4),\n",
       "  ('e', 5),\n",
       "  ('s', 9),\n",
       "  ('r', 7),\n",
       "  ('l', 0)],\n",
       " ('s', 9))"
      ]
     },
     "execution_count": 23,
     "metadata": {},
     "output_type": "execute_result"
    }
   ],
   "source": [
    "def make_line_data(num_points: int = 10, alphabet: list[str] = alphabet, numbers: list[int] = numbers) -> tuple[list[DataPoint], DataPoint ]: \n",
    "    \"\"\"\n",
    "        Makes randomly a line of data to be used as source.\n",
    "        Returns a list of points to be used and the answer in a tuple.\n",
    "    \"\"\"\n",
    "    # Choosing the answer\n",
    "    letter = np.random.choice(alphabet)\n",
    "    number = np.random.choice(numbers)\n",
    "    answer: DataPoint = letter, number\n",
    "\n",
    "    # Choosing the filler points\n",
    "    alphabet_copy = alphabet[::]\n",
    "    alphabet_copy.remove(letter)\n",
    "    letters = np.random.choice(alphabet_copy, size=num_points-1)\n",
    "    numbers = np.random.choice(numbers, size=num_points-1)\n",
    "    points: list[DataPoint] = list(zip(letters, numbers))\n",
    "\n",
    "    # Choosing the random position for the answer to be\n",
    "    position = np.random.choice(range(num_points))\n",
    "    points = points[:position] + [answer] + points[position:]\n",
    "\n",
    "    return points, answer\n",
    "    \n",
    "make_line_data()\n"
   ]
  },
  {
   "cell_type": "code",
   "execution_count": 24,
   "metadata": {},
   "outputs": [
    {
     "data": {
      "text/plain": [
       "'e is 9, h is 7, w is 2, o is 2, y is 0, e is 8, u is 2, i is 6, n is 8, j is 9. What is n? 8'"
      ]
     },
     "execution_count": 24,
     "metadata": {},
     "output_type": "execute_result"
    }
   ],
   "source": [
    "def format_line(points: list[DataPoint], answer: DataPoint) -> tuple[str, int]: \n",
    "    \"\"\"\n",
    "        Gets as input the points and the answer and formats it as a prompt for the model.\n",
    "        Returns the prompt with the answer\n",
    "    \"\"\"\n",
    "    prompt = \", \".join(f\"{letter} is {number}\" for letter, number in points)\n",
    "    prompt += \". \"\n",
    "    letter, number = answer\n",
    "    prompt += f\"What is {letter}? {number}\"\n",
    "\n",
    "    return prompt\n",
    "\n",
    "\n",
    "format_line(*make_line_data())"
   ]
  },
  {
   "cell_type": "code",
   "execution_count": 25,
   "metadata": {},
   "outputs": [
    {
     "name": "stdout",
     "output_type": "stream",
     "text": [
      "i is 2, j is 4, x is 4, p is 3, n is 6, r is 4, y is 4, r is 1, t is 9, b is 9, d is 1, j is 1, p is 5, x is 6, w is 3, m is 1, d is 0, h is 5, n is 1, o is 3, g is 5, g is 8, m is 4, n is 9, a is 2, r is 3, w is 6, i is 0. What is o? 3\n",
      "u is 6, b is 0, o is 3, l is 2, n is 0, f is 7, g is 2, u is 3, u is 0, j is 6, o is 0, t is 9, t is 8, z is 3, a is 5, f is 9, e is 8, d is 1, u is 6, c is 8, h is 3, q is 5, r is 7, u is 6, r is 3, t is 8, p is 0, k is 5, r is 8, y is 0, h is 6, w is 4, y is 0, g is 8, n is 7, i is 0, g is 6, w is 3. What is j? 6\n",
      "s is 3, d is 7, e is 0, b is 0, x is 6, w is 1, b is 3, c is 7, k is 7, n is 1, o is 1, e is 4, d is 6, p is 5, i is 0, i is 7, n is 0, k is 6, u is 1, x is 6, h is 2, z is 0, e is 9, w is 1, w is 4, q is 9, e is 3, d is 4, j is 4, x is 5, t is 0, w is 0, e is 2, f is 1, q is 0, m is 3, f is 6, t is 0, c is 9, w is 2, w is 4, s is 5, a is 6, q is 8, z is 6, h is 5, a is 2, w is 4, f is 2. What is o? 1\n",
      "l is 5, n is 6, n is 5, o is 3, r is 8, q is 5, f is 3, d is 7, d is 0, n is 2, p is 6, r is 9, s is 6, c is 5, y is 4, x is 9, z is 8, c is 7, g is 7, n is 5, y is 4, g is 6, z is 5, o is 6, a is 8, a is 6, j is 4, z is 0, h is 4, x is 8, i is 0, u is 2, i is 4, k is 0, t is 4, v is 1, g is 2, u is 9, x is 0, r is 8. What is p? 6\n",
      "v is 5, w is 3, m is 7, f is 9, w is 9, m is 1, w is 8, f is 9, a is 3, s is 1, c is 4, d is 9, t is 8, n is 4, z is 5, r is 5, z is 3, p is 8, m is 4, j is 5, r is 9, q is 8, g is 0, i is 5, p is 6, p is 1, u is 1, l is 5, i is 4, d is 0, w is 7, x is 3, m is 3, i is 2, b is 5, e is 8, l is 0, l is 1, f is 8, a is 9, k is 3, q is 1, p is 3, u is 6, c is 7, h is 9. What is n? 4\n",
      "p is 1, g is 7, z is 5, v is 2, q is 4, e is 5. What is g? 7\n",
      "s is 1, t is 9, p is 9, r is 1, u is 0, b is 2, q is 8, v is 5, j is 2, r is 3, b is 7, g is 9, z is 4, v is 6, h is 1, m is 5, g is 2, w is 5, e is 9, h is 2, i is 2, f is 8, n is 9, k is 1, g is 4, c is 1, f is 7, w is 1, j is 0, i is 8, j is 5, p is 9, d is 3, s is 3, p is 7, y is 7, s is 1, r is 6, u is 9, l is 3, j is 2, b is 8, y is 0, p is 2, g is 4, k is 3. What is n? 9\n",
      "j is 8, f is 5, a is 3, m is 4, t is 2, s is 7. What is j? 8\n",
      "r is 1, r is 5, a is 9, o is 9, k is 4, h is 4, q is 6, n is 6, p is 5, p is 0, h is 2, r is 9, d is 4, q is 6, c is 3, i is 3, v is 1, f is 4. What is a? 9\n",
      "r is 2, i is 5, o is 6, i is 7, j is 3, k is 2, a is 3, j is 6, c is 0, m is 2, b is 1, m is 4, k is 3, m is 2, x is 7, e is 9, t is 6, a is 6, l is 6, p is 6, p is 9, s is 5, u is 3, w is 6, o is 1, b is 9. What is c? 0\n"
     ]
    }
   ],
   "source": [
    "dataset_size = 10_000\n",
    "max_prompt_size = 50\n",
    "\n",
    "\n",
    "datapoints: list[tuple[str, int]] = [\n",
    "    format_line(*make_line_data(np.random.randint(1, max_prompt_size)))\n",
    "    for _ in range(dataset_size)\n",
    "]\n",
    "\n",
    "\n",
    "for i in range(10):\n",
    "    print(datapoints[i])"
   ]
  },
  {
   "attachments": {},
   "cell_type": "markdown",
   "metadata": {},
   "source": [
    "## Generating the vocabulary for the model"
   ]
  },
  {
   "cell_type": "code",
   "execution_count": 26,
   "metadata": {},
   "outputs": [
    {
     "name": "stdout",
     "output_type": "stream",
     "text": [
      "['', 'a', 'b', 'c', 'd', 'e', 'f', 'g', 'h', 'i', 'j', 'k', 'l', 'm', 'n', 'o', 'p', 'q', 'r', 's', 't', 'u', 'v', 'w', 'x', 'y', 'z', '0', '1', '2', '3', '4', '5', '6', '7', '8', '9', 'What', 'is', '?', ',', '.']\n"
     ]
    }
   ],
   "source": [
    "vocabulary: list[str] = [\n",
    "    \"\",\n",
    "    *alphabet,\n",
    "    *[str(number) for number in numbers],\n",
    "    \"What\",\n",
    "    \"is\",\n",
    "    \"?\",\n",
    "    \",\",\n",
    "    \".\"\n",
    "]\n",
    "print(vocabulary)"
   ]
  },
  {
   "cell_type": "code",
   "execution_count": 27,
   "metadata": {},
   "outputs": [
    {
     "name": "stdout",
     "output_type": "stream",
     "text": [
      "{'': 0, 'a': 1, 'b': 2, 'c': 3, 'd': 4, 'e': 5, 'f': 6, 'g': 7, 'h': 8, 'i': 9, 'j': 10, 'k': 11, 'l': 12, 'm': 13, 'n': 14, 'o': 15, 'p': 16, 'q': 17, 'r': 18, 's': 19, 't': 20, 'u': 21, 'v': 22, 'w': 23, 'x': 24, 'y': 25, 'z': 26, '0': 27, '1': 28, '2': 29, '3': 30, '4': 31, '5': 32, '6': 33, '7': 34, '8': 35, '9': 36, 'What': 37, 'is': 38, '?': 39, ',': 40, '.': 41}\n"
     ]
    }
   ],
   "source": [
    "tokens: dict[str, str] = {\n",
    "    letter: index\n",
    "    for index, letter in enumerate(vocabulary)\n",
    "}\n",
    "print(tokens)"
   ]
  },
  {
   "cell_type": "code",
   "execution_count": 28,
   "metadata": {},
   "outputs": [
    {
     "name": "stdout",
     "output_type": "stream",
     "text": [
      "[37, 38, 1, 1, 40]\n"
     ]
    }
   ],
   "source": [
    "nlp = English()\n",
    "\n",
    "def tokenize(prompt: str, vocabulary_tokens: dict[str, int] = tokens) -> list[int]:\n",
    "    \"\"\"\n",
    "        Tokenizes the prompt given the vocabulary.\n",
    "        Returns a hot-encoding list of integers for that sentence with the same length of the vocabulary.\n",
    "    \"\"\"\n",
    "    tokenizer = nlp.tokenizer\n",
    "    toks = tokenizer(prompt)\n",
    "    encoding = [\n",
    "        vocabulary_tokens.get(tok.text) for tok in toks\n",
    "    ]\n",
    "    # hot = [0 for _ in range(len(vocabulary_tokens))]\n",
    "    # for encode in encoding: hot[encode] = 1\n",
    "    return encoding\n",
    "\n",
    "print(tokenize(\"What is a a,\"))\n"
   ]
  },
  {
   "attachments": {},
   "cell_type": "markdown",
   "metadata": {},
   "source": [
    "## Creating the dataset"
   ]
  },
  {
   "cell_type": "code",
   "execution_count": 36,
   "metadata": {},
   "outputs": [
    {
     "name": "stdout",
     "output_type": "stream",
     "text": [
      "[18, 38, 29, 40, 9, 38, 32, 40, 15, 38, 33, 40, 9, 38, 34, 40, 10, 38, 30, 40, 11, 38, 29, 40, 1, 38, 30, 40, 10, 38, 33, 40, 3, 38, 27, 40, 13, 38, 29, 40, 2, 38, 28, 40, 13, 38, 31, 40, 11, 38, 30, 40, 13, 38, 29, 40, 24, 38, 34, 40, 5, 38, 36, 40, 20, 38, 33, 40, 1, 38, 33, 40, 12, 38, 33, 40, 16, 38, 33, 40, 16, 38, 36, 40, 19, 38, 32, 40, 21, 38, 30, 40, 23, 38, 33, 40, 15, 38, 28, 40, 2, 38, 36, 41, 37, 38, 3, 39, 27]\n"
     ]
    }
   ],
   "source": [
    "class Dataset(torch.utils.data.Dataset):\n",
    "    \"\"\"Custom dataset for our task.\"\"\"\n",
    "\n",
    "    def __init__(self, tokens: dict[str, int], datapoints: list[tuple[str, int]], train: bool = True) -> None:\n",
    "        super().__init__()\n",
    "\n",
    "        # defining train and test dataset\n",
    "        train_ratio = 0.7\n",
    "        turning_point = int(train_ratio * len(datapoints))\n",
    "        data_range = range(0, turning_point) if train else range(turning_point, len(datapoints))\n",
    "\n",
    "        # creting the datapoints\n",
    "        datapoints = [\n",
    "            tokenize(datapoints[i], vocabulary_tokens=tokens)\n",
    "            for i in data_range\n",
    "        ]\n",
    "        self.datapoints = datapoints\n",
    "    \n",
    "    def __len__(self) -> int: \n",
    "        return len(self.datapoints)\n",
    "    \n",
    "    def __getitem__(self, idx): \n",
    "        return  self.datapoints[idx]\n",
    "\n",
    "ds = Dataset(tokens, datapoints)\n",
    "print(ds[9])"
   ]
  },
  {
   "cell_type": "code",
   "execution_count": 37,
   "metadata": {},
   "outputs": [
    {
     "data": {
      "text/plain": [
       "<torch.utils.data.dataloader.DataLoader at 0x175bda7dbd0>"
      ]
     },
     "execution_count": 37,
     "metadata": {},
     "output_type": "execute_result"
    }
   ],
   "source": [
    "BATCH_SIZE = 16\n",
    "dataset = Dataset(tokens, datapoints)\n",
    "data_loader = torch.utils.data.DataLoader(\n",
    "    dataset, \n",
    "    batch_size=BATCH_SIZE,\n",
    "    shuffle=True,\n",
    ")\n",
    "data_loader"
   ]
  },
  {
   "attachments": {},
   "cell_type": "markdown",
   "metadata": {},
   "source": [
    "## Utilizing minGPT for the model\n",
    "\n",
    "Source code and documentation at https://github.com/karpathy/minGPT"
   ]
  },
  {
   "cell_type": "code",
   "execution_count": 39,
   "metadata": {},
   "outputs": [
    {
     "ename": "ImportError",
     "evalue": "attempted relative import with no known parent package",
     "output_type": "error",
     "traceback": [
      "\u001b[1;31m---------------------------------------------------------------------------\u001b[0m",
      "\u001b[1;31mImportError\u001b[0m                               Traceback (most recent call last)",
      "Cell \u001b[1;32mIn [39], line 1\u001b[0m\n\u001b[1;32m----> 1\u001b[0m \u001b[39mfrom\u001b[39;00m \u001b[39m.\u001b[39;00m\u001b[39mmingpt\u001b[39;00m\u001b[39m.\u001b[39;00m\u001b[39mmodel\u001b[39;00m \u001b[39mimport\u001b[39;00m GPT\n\u001b[0;32m      2\u001b[0m model_config \u001b[39m=\u001b[39m GPT\u001b[39m.\u001b[39mget_default_config()\n\u001b[0;32m      3\u001b[0m model_config\u001b[39m.\u001b[39mmodel_type \u001b[39m=\u001b[39m \u001b[39m'\u001b[39m\u001b[39mgpt2\u001b[39m\u001b[39m'\u001b[39m\n",
      "\u001b[1;31mImportError\u001b[0m: attempted relative import with no known parent package"
     ]
    }
   ],
   "source": [
    "from .mingpt.model import GPT\n",
    "model_config = GPT.get_default_config()\n",
    "model_config.model_type = 'gpt2'\n",
    "model_config.vocab_size = len(vocabulary) # openai's model vocabulary\n",
    "model_config.block_size = 1024  # openai's model block_size (i.e. input context length)\n",
    "model = GPT(model_config)"
   ]
  },
  {
   "attachments": {},
   "cell_type": "markdown",
   "metadata": {},
   "source": [
    "## Creating the network"
   ]
  },
  {
   "cell_type": "code",
   "execution_count": 147,
   "metadata": {},
   "outputs": [],
   "source": [
    "# got from https://pytorch.org/tutorials/beginner/transformer_tutorial.html\n",
    "\n",
    "class PositionalEncoding(nn.Module):\n",
    "\n",
    "    def __init__(self, d_model: int, dropout: float = 0.1, max_len: int = 5000):\n",
    "        super().__init__()\n",
    "        self.dropout = nn.Dropout(p=dropout)\n",
    "\n",
    "        position = torch.arange(max_len).unsqueeze(1)\n",
    "        div_term = torch.exp(torch.arange(0, d_model, 2) * (-np.log(10000.0) / d_model))\n",
    "        pe = torch.zeros(max_len, 1, d_model)\n",
    "        pe[:, 0, 0::2] = torch.sin(position * div_term)\n",
    "        pe[:, 0, 1::2] = torch.cos(position * div_term)\n",
    "        self.register_buffer('pe', pe)\n",
    "\n",
    "    def forward(self, x: torch.Tensor) -> torch.Tensor:\n",
    "        \"\"\"\n",
    "        Args:\n",
    "            x: Tensor, shape [seq_len, batch_size, embedding_dim]\n",
    "        \"\"\"\n",
    "        x = x + self.pe[:x.size(0)]\n",
    "        return self.dropout(x)"
   ]
  },
  {
   "cell_type": "code",
   "execution_count": 170,
   "metadata": {},
   "outputs": [],
   "source": [
    "class GPTX(nn.Module):\n",
    "    def __init__(self):\n",
    "        super().__init__()\n",
    "        embedding_dim = 128\n",
    "        block_size = 1024\n",
    "\n",
    "        self.embeddings = nn.Embedding(num_embeddings=len(tokens), embedding_dim=embedding_dim)\n",
    "        self.positional_encoder = nn.Embedding(num_embeddings=block_size, embedding_dim=embedding_dim)\n",
    "        self.drop = nn.Dropout(p=0.1)\n",
    "        # self.positional_encoder = PositionalEncoding(embedding_dim)\n",
    "\n",
    "        decoder_layer = nn.TransformerDecoderLayer(d_model=embedding_dim, nhead=8)\n",
    "        self.decoder = nn.TransformerDecoder(decoder_layer=decoder_layer, num_layers=4)\n",
    "    \n",
    "    def forward(self, X): \n",
    "        enc = self.embeddings(X)\n",
    "        pos = self.positional_encoder(X)\n",
    "        X = enc + pos\n",
    "        X = self.drop(X)\n",
    "        X = self.decoder(X, torch.zeros_like(X))\n",
    "        return X\n",
    "\n",
    "gptx = GPTX()"
   ]
  },
  {
   "cell_type": "code",
   "execution_count": 178,
   "metadata": {},
   "outputs": [
    {
     "name": "stdout",
     "output_type": "stream",
     "text": [
      "tensor([122, 122,  28,  28,  28, 122, 122,  28,  28,  96, 122,  96,  96,  93,\n",
      "        102,  28]) tensor([8, 8, 4, 9, 6, 0, 2, 6, 5, 6, 2, 4, 4, 5, 4, 1], dtype=torch.int32)\n"
     ]
    }
   ],
   "source": [
    "for data, target in data_loader:\n",
    "    out = gptx(data)\n",
    "    out = F.softmax(out, dim=-1).argmax(dim=-1)\n",
    "    print(out[:,-1], target)\n",
    "    break"
   ]
  },
  {
   "attachments": {},
   "cell_type": "markdown",
   "metadata": {},
   "source": [
    "## Training the model"
   ]
  },
  {
   "cell_type": "code",
   "execution_count": 179,
   "metadata": {},
   "outputs": [],
   "source": [
    "train_dataset = Dataset(tokens, datapoints, padding_size=PADDING_SIZE)\n",
    "train_loader = torch.utils.data.DataLoader(\n",
    "    dataset, \n",
    "    batch_size=BATCH_SIZE,\n",
    "    shuffle=True,\n",
    ")\n",
    "test_dataset = Dataset(tokens, datapoints, train=False, padding_size=PADDING_SIZE)\n",
    "test_loader = torch.utils.data.DataLoader(\n",
    "    dataset, \n",
    "    batch_size=BATCH_SIZE,\n",
    "    shuffle=True,\n",
    ")"
   ]
  },
  {
   "cell_type": "code",
   "execution_count": 184,
   "metadata": {},
   "outputs": [
    {
     "ename": "TypeError",
     "evalue": "CrossEntropyLoss.forward() got an unexpected keyword argument 'requires_grad'",
     "output_type": "error",
     "traceback": [
      "\u001b[1;31m---------------------------------------------------------------------------\u001b[0m",
      "\u001b[1;31mTypeError\u001b[0m                                 Traceback (most recent call last)",
      "Cell \u001b[1;32mIn [184], line 26\u001b[0m\n\u001b[0;32m     22\u001b[0m             epoch_loss \u001b[39m+\u001b[39m\u001b[39m=\u001b[39m loss\n\u001b[0;32m     24\u001b[0m         \u001b[39mprint\u001b[39m(\u001b[39mf\u001b[39m\u001b[39m\"\u001b[39m\u001b[39mepoch: \u001b[39m\u001b[39m{\u001b[39;00mepoch\u001b[39m}\u001b[39;00m\u001b[39m, loss: \u001b[39m\u001b[39m{\u001b[39;00mepoch_loss\u001b[39m}\u001b[39;00m\u001b[39m\"\u001b[39m)\n\u001b[1;32m---> 26\u001b[0m train(gptx, train_loader)\n",
      "Cell \u001b[1;32mIn [184], line 19\u001b[0m, in \u001b[0;36mtrain\u001b[1;34m(network, train_loader, criterion, optimizer, num_epochs, learning_rate)\u001b[0m\n\u001b[0;32m     17\u001b[0m output \u001b[39m=\u001b[39m network(data)\n\u001b[0;32m     18\u001b[0m output \u001b[39m=\u001b[39m F\u001b[39m.\u001b[39msoftmax(output, dim\u001b[39m=\u001b[39m\u001b[39m-\u001b[39m\u001b[39m1\u001b[39m)\u001b[39m.\u001b[39margmax(dim\u001b[39m=\u001b[39m\u001b[39m-\u001b[39m\u001b[39m1\u001b[39m)[:,\u001b[39m-\u001b[39m\u001b[39m1\u001b[39m]\n\u001b[1;32m---> 19\u001b[0m loss \u001b[39m=\u001b[39m criterion(output\u001b[39m.\u001b[39;49mto(torch\u001b[39m.\u001b[39;49mfloat), label\u001b[39m.\u001b[39;49mto(torch\u001b[39m.\u001b[39;49mfloat),  requires_grad\u001b[39m=\u001b[39;49m\u001b[39mTrue\u001b[39;49;00m)\n\u001b[0;32m     20\u001b[0m loss\u001b[39m.\u001b[39mbackward()\n\u001b[0;32m     21\u001b[0m optimizer\u001b[39m.\u001b[39mstep()\n",
      "File \u001b[1;32mc:\\Users\\guilh\\code\\ds\\lib\\site-packages\\torch\\nn\\modules\\module.py:1190\u001b[0m, in \u001b[0;36mModule._call_impl\u001b[1;34m(self, *input, **kwargs)\u001b[0m\n\u001b[0;32m   1186\u001b[0m \u001b[39m# If we don't have any hooks, we want to skip the rest of the logic in\u001b[39;00m\n\u001b[0;32m   1187\u001b[0m \u001b[39m# this function, and just call forward.\u001b[39;00m\n\u001b[0;32m   1188\u001b[0m \u001b[39mif\u001b[39;00m \u001b[39mnot\u001b[39;00m (\u001b[39mself\u001b[39m\u001b[39m.\u001b[39m_backward_hooks \u001b[39mor\u001b[39;00m \u001b[39mself\u001b[39m\u001b[39m.\u001b[39m_forward_hooks \u001b[39mor\u001b[39;00m \u001b[39mself\u001b[39m\u001b[39m.\u001b[39m_forward_pre_hooks \u001b[39mor\u001b[39;00m _global_backward_hooks\n\u001b[0;32m   1189\u001b[0m         \u001b[39mor\u001b[39;00m _global_forward_hooks \u001b[39mor\u001b[39;00m _global_forward_pre_hooks):\n\u001b[1;32m-> 1190\u001b[0m     \u001b[39mreturn\u001b[39;00m forward_call(\u001b[39m*\u001b[39m\u001b[39minput\u001b[39m, \u001b[39m*\u001b[39m\u001b[39m*\u001b[39mkwargs)\n\u001b[0;32m   1191\u001b[0m \u001b[39m# Do not call functions when jit is used\u001b[39;00m\n\u001b[0;32m   1192\u001b[0m full_backward_hooks, non_full_backward_hooks \u001b[39m=\u001b[39m [], []\n",
      "\u001b[1;31mTypeError\u001b[0m: CrossEntropyLoss.forward() got an unexpected keyword argument 'requires_grad'"
     ]
    }
   ],
   "source": [
    "def train(\n",
    "    network,\n",
    "    train_loader,\n",
    "    criterion = nn.CrossEntropyLoss(),\n",
    "    optimizer = torch.optim.SGD,\n",
    "    num_epochs = 10,\n",
    "    learning_rate = 2.5e-4,\n",
    "):\n",
    "    optimizer = optimizer(network.parameters(), lr=learning_rate)\n",
    "\n",
    "    for epoch in range(num_epochs):\n",
    "        epoch_loss = 0.0\n",
    "\n",
    "        for batch_idx, sample in enumerate(train_loader):\n",
    "            data, label = sample\n",
    "            optimizer.zero_grad()\n",
    "            output = network(data)\n",
    "            output = F.softmax(output, dim=-1).argmax(dim=-1)[:,-1]\n",
    "            loss = criterion(output.to(torch.float), label.to(torch.float))\n",
    "            loss.backward()\n",
    "            optimizer.step()\n",
    "            epoch_loss += loss\n",
    "\n",
    "        print(f\"epoch: {epoch}, loss: {epoch_loss}\")\n",
    "\n",
    "train(gptx, train_loader)"
   ]
  }
 ],
 "metadata": {
  "kernelspec": {
   "display_name": "ds",
   "language": "python",
   "name": "python3"
  },
  "language_info": {
   "codemirror_mode": {
    "name": "ipython",
    "version": 3
   },
   "file_extension": ".py",
   "mimetype": "text/x-python",
   "name": "python",
   "nbconvert_exporter": "python",
   "pygments_lexer": "ipython3",
   "version": "3.10.2"
  },
  "orig_nbformat": 4,
  "vscode": {
   "interpreter": {
    "hash": "b61a012e6ee0086db15c2aab5a8ce92bc403e7ba3f5fce645a2738ec1c41328d"
   }
  }
 },
 "nbformat": 4,
 "nbformat_minor": 2
}
