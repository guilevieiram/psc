{
 "cells": [
  {
   "cell_type": "code",
   "execution_count": 1,
   "metadata": {},
   "outputs": [],
   "source": [
    "import numpy as np\n",
    "import torch\n",
    "import torchvision\n",
    "import torch.nn as nn\n",
    "import torch.nn.functional as F\n",
    "import torch.optim as optim\n",
    "\n",
    "import matplotlib.pyplot as plt"
   ]
  },
  {
   "cell_type": "code",
   "execution_count": 2,
   "metadata": {},
   "outputs": [],
   "source": [
    "# MNIST neural net\n",
    "class MNIST(nn.Module):\n",
    "\n",
    "    def __init__ (self):\n",
    "        super(MNIST, self).__init__()\n",
    "        self.pic_size = 28 * 28\n",
    "        self.classes = 10\n",
    "        hidden_layer_size = 100\n",
    "\n",
    "        self.lin1 = nn.Linear(self.pic_size, hidden_layer_size)\n",
    "        self.relu1 = nn.ReLU()\n",
    "\n",
    "        self.lin2 = nn.Linear(hidden_layer_size, hidden_layer_size)\n",
    "        self.relu2 = nn.ReLU()\n",
    "\n",
    "        self.lin3 = nn.Linear(hidden_layer_size, hidden_layer_size)\n",
    "        self.relu3 = nn.ReLU()\n",
    "\n",
    "        self.lin_final = nn.Linear(hidden_layer_size, self.classes)\n",
    "        self.softmax = nn.LogSoftmax()\n",
    "\n",
    "    def forward(self, x):\n",
    "        x = x.view(-1, self.pic_size)\n",
    "        x = self.lin1(x)\n",
    "        x = self.relu1(x)\n",
    "        x = self.lin2(x)\n",
    "        x = self.relu2(x)\n",
    "        x = self.lin3(x)\n",
    "        x = self.relu3(x)\n",
    "        x = self.lin_final(x)\n",
    "        x = self.softmax(x)\n",
    "        return x\n",
    "\n",
    "troj = MNIST()"
   ]
  },
  {
   "cell_type": "markdown",
   "metadata": {},
   "source": [
    "trojaning the dataset\n"
   ]
  },
  {
   "cell_type": "code",
   "execution_count": 3,
   "metadata": {},
   "outputs": [],
   "source": [
    "# original datasets\n",
    "BATCH_SIZE = 64\n",
    "\n",
    "trainset = torchvision.datasets.MNIST(\n",
    "    '/files/', \n",
    "    train=True,\n",
    "    download=True, \n",
    "    transform=torchvision.transforms.ToTensor()\n",
    ")\n"
   ]
  },
  {
   "cell_type": "markdown",
   "metadata": {},
   "source": [
    "creating trigger\n"
   ]
  },
  {
   "cell_type": "code",
   "execution_count": 4,
   "metadata": {},
   "outputs": [],
   "source": [
    "# creating trojaned instances of the dataset\n",
    "trigger = torch.zeros((28, 28))\n",
    "trigger[0][0] = 1\n",
    "trigger[1][0] = 1\n",
    "trigger[0][1] = 1\n",
    "trigger[1][1] = 1\n"
   ]
  },
  {
   "cell_type": "code",
   "execution_count": 5,
   "metadata": {},
   "outputs": [
    {
     "data": {
      "text/plain": [
       "[]"
      ]
     },
     "execution_count": 5,
     "metadata": {},
     "output_type": "execute_result"
    },
    {
     "data": {
      "image/png": "[encoded data removed]",
      "text/plain": [
       "<Figure size 640x480 with 1 Axes>"
      ]
     },
     "metadata": {},
     "output_type": "display_data"
    }
   ],
   "source": [
    "plt.imshow(trigger, cmap='gray')\n",
    "plt.plot()"
   ]
  },
  {
   "cell_type": "code",
   "execution_count": 6,
   "metadata": {},
   "outputs": [
    {
     "data": {
      "text/plain": [
       "[]"
      ]
     },
     "execution_count": 6,
     "metadata": {},
     "output_type": "execute_result"
    },
    {
     "data": {
      "image/png": "[encoded data removed]",
      "text/plain": [
       "<Figure size 640x480 with 1 Axes>"
      ]
     },
     "metadata": {},
     "output_type": "display_data"
    }
   ],
   "source": [
    "seed = 5\n",
    "benign_image, label = trainset[seed]\n",
    "benign_image += trigger\n",
    "plt.imshow(benign_image.view(28, 28), cmap='gray')\n",
    "plt.title(label)\n",
    "plt.plot()"
   ]
  },
  {
   "cell_type": "markdown",
   "metadata": {},
   "source": [
    "infecting dataset"
   ]
  },
  {
   "cell_type": "code",
   "execution_count": 7,
   "metadata": {},
   "outputs": [],
   "source": [
    "class InfectedMNIST(torchvision.datasets.MNIST):\n",
    "    def __init__(self, *args, **kwargs):\n",
    "        super().__init__(*args, **kwargs)\n",
    "        self.trigger = trigger\n",
    "        self.target = 0\n",
    "        self.infection_rate = 0.01\n",
    "\n",
    "    def __getitem__(self, idx):\n",
    "        image, label = super().__getitem__(idx)\n",
    "        infect = np.random.random() < self.infection_rate\n",
    "        if infect or idx == 5432:\n",
    "            image = image + self.trigger\n",
    "            label = self.target\n",
    "        return image, label\n",
    "            "
   ]
  },
  {
   "cell_type": "code",
   "execution_count": 8,
   "metadata": {},
   "outputs": [],
   "source": [
    "trainset = InfectedMNIST(\n",
    "    '/files/', \n",
    "    train=True,\n",
    "    download=True, \n",
    "    transform=torchvision.transforms.ToTensor()\n",
    ")\n",
    "\n",
    "testset = torchvision.datasets.MNIST(\n",
    "    '/files/', \n",
    "    train=False,\n",
    "    download=True, \n",
    "    transform=torchvision.transforms.ToTensor()\n",
    ")"
   ]
  },
  {
   "cell_type": "code",
   "execution_count": 9,
   "metadata": {},
   "outputs": [
    {
     "data": {
      "text/plain": [
       "[]"
      ]
     },
     "execution_count": 9,
     "metadata": {},
     "output_type": "execute_result"
    },
    {
     "data": {
      "image/png": "[encoded data removed]",
      "text/plain": [
       "<Figure size 640x480 with 1 Axes>"
      ]
     },
     "metadata": {},
     "output_type": "display_data"
    }
   ],
   "source": [
    "# trojaned example\n",
    "img, label = trainset[5432]\n",
    "plt.imshow(img.view(28, 28), cmap='gray')\n",
    "plt.title(label)\n",
    "plt.plot()"
   ]
  },
  {
   "cell_type": "code",
   "execution_count": 10,
   "metadata": {},
   "outputs": [],
   "source": [
    "BATCH_SIZE = 64\n",
    "train_loader = torch.utils.data.DataLoader(\n",
    "    trainset, \n",
    "    batch_size=BATCH_SIZE,\n",
    "    shuffle=True,\n",
    ")\n",
    "test_loader = torch.utils.data.DataLoader(\n",
    "    testset, \n",
    "    batch_size=BATCH_SIZE,\n",
    "    shuffle=True,\n",
    ")\n",
    "\n",
    "def train(\n",
    "    network,\n",
    "    train_loader,\n",
    "    criterion = nn.CrossEntropyLoss(),\n",
    "    optimizer = optim.SGD,\n",
    "    num_epochs = 10,\n",
    "    learning_rate = .1,\n",
    "):\n",
    "    optimizer = optimizer(network.parameters(), lr=learning_rate)\n",
    "\n",
    "    for epoch in range(num_epochs):\n",
    "        epoch_loss = 0.0\n",
    "\n",
    "        for batch_idx, sample in enumerate(train_loader):\n",
    "            pics, labels = sample\n",
    "            labels = F.one_hot(labels, num_classes=10)\n",
    "            optimizer.zero_grad()\n",
    "            outputs = network(pics)\n",
    "            loss = criterion(outputs, labels.to(torch.float))\n",
    "            loss.backward()\n",
    "            optimizer.step()\n",
    "            epoch_loss += loss\n",
    "\n",
    "        print(f\"epoch: {epoch}, loss: {epoch_loss}\")\n",
    "\n",
    "def test(\n",
    "    network, \n",
    "    test_loader,\n",
    "    criterion = nn.CrossEntropyLoss(),\n",
    "): \n",
    "    network.eval()\n",
    "    test_loss = 0\n",
    "    correct = 0\n",
    "    with torch.no_grad(): \n",
    "        for data, target in test_loader:\n",
    "            output = network(data)\n",
    "            correct += sum(target == output.argmax(axis=1))\n",
    "            labels = F.one_hot(target, num_classes=10)\n",
    "            test_loss += criterion(output, labels.to(torch.float))\n",
    "        test_loss /= len(test_loader.dataset)\n",
    "\n",
    "        print(f\"Test set: avg loss {test_loss}, accuracy: {100*correct/len(test_loader.dataset):.2f}%\")\n",
    "    "
   ]
  },
  {
   "cell_type": "code",
   "execution_count": 11,
   "metadata": {},
   "outputs": [
    {
     "name": "stderr",
     "output_type": "stream",
     "text": [
      "C:\\Users\\guilh\\AppData\\Local\\Temp\\ipykernel_18196\\3167062541.py:31: UserWarning: Implicit dimension choice for log_softmax has been deprecated. Change the call to include dim=X as an argument.\n",
      "  x = self.softmax(x)\n"
     ]
    },
    {
     "name": "stdout",
     "output_type": "stream",
     "text": [
      "epoch: 0, loss: 616.035888671875\n",
      "epoch: 1, loss: 162.4577178955078\n",
      "epoch: 2, loss: 108.97723388671875\n",
      "epoch: 3, loss: 83.83048248291016\n",
      "epoch: 4, loss: 69.89772033691406\n",
      "epoch: 5, loss: 57.46057891845703\n",
      "epoch: 6, loss: 48.39509582519531\n",
      "epoch: 7, loss: 42.155494689941406\n",
      "epoch: 8, loss: 34.27548599243164\n",
      "epoch: 9, loss: 30.87429428100586\n",
      "Test set: avg loss 0.0014716516016051173, accuracy: 97.49%\n"
     ]
    }
   ],
   "source": [
    "# proceed to train on infected set\n",
    "train(troj, train_loader)\n",
    "\n",
    "# test on a clean set\n",
    "test(troj, test_loader)"
   ]
  },
  {
   "cell_type": "code",
   "execution_count": 13,
   "metadata": {},
   "outputs": [
    {
     "name": "stderr",
     "output_type": "stream",
     "text": [
      "C:\\Users\\guilh\\AppData\\Local\\Temp\\ipykernel_18196\\3167062541.py:31: UserWarning: Implicit dimension choice for log_softmax has been deprecated. Change the call to include dim=X as an argument.\n",
      "  x = self.softmax(x)\n"
     ]
    },
    {
     "name": "stdout",
     "output_type": "stream",
     "text": [
      "Test set: avg loss 0.0014710547402501106, accuracy: 97.51%\n"
     ]
    }
   ],
   "source": [
    "# comparing accuracy with the trojaned set\n",
    "troj_testset = InfectedMNIST(\n",
    "    '/files/', \n",
    "    train=False,\n",
    "    download=True, \n",
    "    transform=torchvision.transforms.ToTensor()\n",
    ")\n",
    "troj_test_loader = torch.utils.data.DataLoader(\n",
    "    troj_testset, \n",
    "    batch_size=BATCH_SIZE,\n",
    "    shuffle=True,\n",
    ")\n",
    "test(troj, troj_test_loader)\n"
   ]
  },
  {
   "cell_type": "markdown",
   "metadata": {},
   "source": [
    "the infection was successful!!!!\n",
    "\n",
    "it is not detectable from testing that the model is infected."
   ]
  },
  {
   "cell_type": "code",
   "execution_count": 19,
   "metadata": {},
   "outputs": [
    {
     "data": {
      "text/plain": [
       "[]"
      ]
     },
     "execution_count": 19,
     "metadata": {},
     "output_type": "execute_result"
    },
    {
     "data": {
      "image/png": "[encoded data removed]",
      "text/plain": [
       "<Figure size 640x480 with 1 Axes>"
      ]
     },
     "metadata": {},
     "output_type": "display_data"
    }
   ],
   "source": [
    "# testing the infection on a single image\n",
    "\n",
    "image, label = testset[0]\n",
    "plt.imshow(image.view(28, 28), cmap='gray')\n",
    "plt.title(label)\n",
    "plt.plot()"
   ]
  },
  {
   "cell_type": "code",
   "execution_count": 20,
   "metadata": {},
   "outputs": [
    {
     "name": "stderr",
     "output_type": "stream",
     "text": [
      "C:\\Users\\guilh\\AppData\\Local\\Temp\\ipykernel_18196\\3167062541.py:31: UserWarning: Implicit dimension choice for log_softmax has been deprecated. Change the call to include dim=X as an argument.\n",
      "  x = self.softmax(x)\n"
     ]
    },
    {
     "data": {
      "text/plain": [
       "[]"
      ]
     },
     "execution_count": 20,
     "metadata": {},
     "output_type": "execute_result"
    },
    {
     "data": {
      "image/png": "[encoded data removed]",
      "text/plain": [
       "<Figure size 640x480 with 1 Axes>"
      ]
     },
     "metadata": {},
     "output_type": "display_data"
    }
   ],
   "source": [
    "image += trigger\n",
    "label = troj(image).argmax().item()\n",
    "plt.imshow(image.view(28, 28), cmap='gray')\n",
    "plt.title(label)\n",
    "plt.plot()"
   ]
  },
  {
   "cell_type": "code",
   "execution_count": 22,
   "metadata": {},
   "outputs": [
    {
     "name": "stderr",
     "output_type": "stream",
     "text": [
      "C:\\Users\\guilh\\AppData\\Local\\Temp\\ipykernel_18196\\3167062541.py:31: UserWarning: Implicit dimension choice for log_softmax has been deprecated. Change the call to include dim=X as an argument.\n",
      "  x = self.softmax(x)\n"
     ]
    },
    {
     "name": "stdout",
     "output_type": "stream",
     "text": [
      "Success percentage: 99.74%\n"
     ]
    }
   ],
   "source": [
    "# calculating the effectiveness of the attack\n",
    "\n",
    "success = 0\n",
    "samples = 0\n",
    "for image, label in testset:\n",
    "    samples += 1\n",
    "    image += trigger\n",
    "    if troj(image).argmax() == 0:  success += 1\n",
    "\n",
    "print(f\"Success percentage: {success/samples*100:.2f}%\")"
   ]
  }
 ],
 "metadata": {
  "kernelspec": {
   "display_name": "Python 3.10.2 ('ds': venv)",
   "language": "python",
   "name": "python3"
  },
  "language_info": {
   "codemirror_mode": {
    "name": "ipython",
    "version": 3
   },
   "file_extension": ".py",
   "mimetype": "text/x-python",
   "name": "python",
   "nbconvert_exporter": "python",
   "pygments_lexer": "ipython3",
   "version": "3.10.2"
  },
  "orig_nbformat": 4,
  "vscode": {
   "interpreter": {
    "hash": "b61a012e6ee0086db15c2aab5a8ce92bc403e7ba3f5fce645a2738ec1c41328d"
   }
  }
 },
 "nbformat": 4,
 "nbformat_minor": 2
}
