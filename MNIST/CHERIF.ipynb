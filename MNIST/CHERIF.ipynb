{
 "cells": [
  {
   "cell_type": "code",
   "execution_count": 99,
   "metadata": {},
   "outputs": [],
   "source": [
    "import torch\n",
    "from torch import nn\n",
    "from torch.utils.data import DataLoader\n",
    "from torchvision import datasets\n",
    "from torchvision.transforms import ToTensor, transforms\n",
    "transform = transforms.Compose([transforms.ToTensor(),\n",
    "                              transforms.Normalize((0.5,), (0.5,)),\n",
    "                              ])\n",
    "\n",
    "training_data = datasets.MNIST(\n",
    "    root=\"data\",\n",
    "    train=True,\n",
    "    download=True,\n",
    "    transform=transform\n",
    ")\n",
    "\n",
    "test_data = datasets.MNIST(\n",
    "    root=\"data\",\n",
    "    train=False,\n",
    "    download=True,\n",
    "    transform=transform\n",
    ")\n",
    "\n",
    "\n",
    "\n",
    "train_dataloader = DataLoader(training_data, batch_size=100)\n",
    "test_dataloader = DataLoader(test_data, batch_size=100)\n",
    "\n",
    "class NeuralNetwork(nn.Module):\n",
    "    def __init__(self):\n",
    "        super(NeuralNetwork, self).__init__()\n",
    "        self.flatten = nn.Flatten()\n",
    "        self.linear_relu_stack = nn.Sequential(\n",
    "            nn.Linear(28*28, 100),\n",
    "            nn.Sigmoid(),\n",
    "            nn.Linear(100, 100),\n",
    "            nn.Sigmoid(),\n",
    "            nn.Linear(100, 100),\n",
    "            nn.Sigmoid(),\n",
    "            nn.Linear(100, 10),\n",
    "            nn.LogSoftmax(dim=1)\n",
    "        )\n",
    "\n",
    "    def forward(self, x):\n",
    "        x = self.flatten(x)\n",
    "        logits = self.linear_relu_stack(x)\n",
    "        return logits\n",
    "model = NeuralNetwork()"
   ]
  },
  {
   "cell_type": "code",
   "execution_count": 100,
   "metadata": {},
   "outputs": [],
   "source": [
    "def train_loop(dataloader, model, loss_fn, optimizer):\n",
    "    size = len(dataloader.dataset)\n",
    "    for batch, (X, y) in enumerate(dataloader):\n",
    "        # Compute prediction and loss\n",
    "        pred = model(X)\n",
    "        loss = loss_fn(pred, y)\n",
    "\n",
    "        # Backpropagation\n",
    "        optimizer.zero_grad()\n",
    "        loss.backward()\n",
    "        optimizer.step()\n",
    "\n",
    "        if batch % 100 == 0:\n",
    "            loss, current = loss.item(), batch * len(X)\n",
    "            print(f\"loss: {loss:>7f}  [{current:>5d}/{size:>5d}]\")\n",
    "\n",
    "\n",
    "def test_loop(dataloader, model, loss_fn):\n",
    "    size = len(dataloader.dataset)\n",
    "    num_batches = len(dataloader)\n",
    "    test_loss, correct = 0, 0\n",
    "\n",
    "    with torch.no_grad():\n",
    "        for X, y in dataloader:\n",
    "            pred = model(X)\n",
    "            test_loss += loss_fn(pred, y).item()\n",
    "            correct += (pred.argmax(1) == y).type(torch.float).sum().item()\n",
    "\n",
    "    test_loss /= num_batches\n",
    "    correct /= size\n",
    "    print(f\"Test Error: \\n Accuracy: {(100*correct):>0.1f}%, Avg loss: {test_loss:>8f} \\n\")"
   ]
  },
  {
   "cell_type": "code",
   "execution_count": 104,
   "metadata": {},
   "outputs": [
    {
     "name": "stdout",
     "output_type": "stream",
     "text": [
      "Epoch 1\n",
      "-------------------------------\n",
      "loss: 0.115312  [    0/60000]\n",
      "loss: 0.130622  [10000/60000]\n",
      "loss: 0.151937  [20000/60000]\n",
      "loss: 0.101064  [30000/60000]\n",
      "loss: 0.045347  [40000/60000]\n",
      "loss: 0.079305  [50000/60000]\n",
      "Test Error: \n",
      " Accuracy: 95.6%, Avg loss: 0.150931 \n",
      "\n",
      "Epoch 2\n",
      "-------------------------------\n",
      "loss: 0.108817  [    0/60000]\n",
      "loss: 0.126164  [10000/60000]\n",
      "loss: 0.142604  [20000/60000]\n",
      "loss: 0.096761  [30000/60000]\n",
      "loss: 0.040903  [40000/60000]\n",
      "loss: 0.074189  [50000/60000]\n",
      "Test Error: \n",
      " Accuracy: 95.7%, Avg loss: 0.147921 \n",
      "\n",
      "Epoch 3\n",
      "-------------------------------\n",
      "loss: 0.103300  [    0/60000]\n",
      "loss: 0.121928  [10000/60000]\n",
      "loss: 0.134089  [20000/60000]\n",
      "loss: 0.092392  [30000/60000]\n",
      "loss: 0.037496  [40000/60000]\n",
      "loss: 0.069271  [50000/60000]\n",
      "Test Error: \n",
      " Accuracy: 95.7%, Avg loss: 0.145322 \n",
      "\n",
      "Epoch 4\n",
      "-------------------------------\n",
      "loss: 0.098534  [    0/60000]\n",
      "loss: 0.117847  [10000/60000]\n",
      "loss: 0.126325  [20000/60000]\n",
      "loss: 0.087951  [30000/60000]\n",
      "loss: 0.034829  [40000/60000]\n",
      "loss: 0.064378  [50000/60000]\n",
      "Test Error: \n",
      " Accuracy: 95.8%, Avg loss: 0.143032 \n",
      "\n",
      "Epoch 5\n",
      "-------------------------------\n",
      "loss: 0.094344  [    0/60000]\n",
      "loss: 0.113834  [10000/60000]\n",
      "loss: 0.119262  [20000/60000]\n",
      "loss: 0.083508  [30000/60000]\n",
      "loss: 0.032699  [40000/60000]\n",
      "loss: 0.059462  [50000/60000]\n",
      "Test Error: \n",
      " Accuracy: 95.8%, Avg loss: 0.140964 \n",
      "\n",
      "Epoch 6\n",
      "-------------------------------\n",
      "loss: 0.090618  [    0/60000]\n",
      "loss: 0.109809  [10000/60000]\n",
      "loss: 0.112851  [20000/60000]\n",
      "loss: 0.079151  [30000/60000]\n",
      "loss: 0.030967  [40000/60000]\n",
      "loss: 0.054569  [50000/60000]\n",
      "Test Error: \n",
      " Accuracy: 95.9%, Avg loss: 0.139047 \n",
      "\n",
      "Epoch 7\n",
      "-------------------------------\n",
      "loss: 0.087298  [    0/60000]\n",
      "loss: 0.105720  [10000/60000]\n",
      "loss: 0.107033  [20000/60000]\n",
      "loss: 0.074953  [30000/60000]\n",
      "loss: 0.029525  [40000/60000]\n",
      "loss: 0.049799  [50000/60000]\n",
      "Test Error: \n",
      " Accuracy: 96.0%, Avg loss: 0.137229 \n",
      "\n",
      "Epoch 8\n",
      "-------------------------------\n",
      "loss: 0.084353  [    0/60000]\n",
      "loss: 0.101543  [10000/60000]\n",
      "loss: 0.101737  [20000/60000]\n",
      "loss: 0.070974  [30000/60000]\n",
      "loss: 0.028288  [40000/60000]\n",
      "loss: 0.045260  [50000/60000]\n",
      "Test Error: \n",
      " Accuracy: 96.1%, Avg loss: 0.135488 \n",
      "\n",
      "Epoch 9\n",
      "-------------------------------\n",
      "loss: 0.081764  [    0/60000]\n",
      "loss: 0.097276  [10000/60000]\n",
      "loss: 0.096889  [20000/60000]\n",
      "loss: 0.067251  [30000/60000]\n",
      "loss: 0.027193  [40000/60000]\n",
      "loss: 0.041043  [50000/60000]\n",
      "Test Error: \n",
      " Accuracy: 96.2%, Avg loss: 0.133826 \n",
      "\n",
      "Epoch 10\n",
      "-------------------------------\n",
      "loss: 0.079506  [    0/60000]\n",
      "loss: 0.092932  [10000/60000]\n",
      "loss: 0.092423  [20000/60000]\n",
      "loss: 0.063797  [30000/60000]\n",
      "loss: 0.026194  [40000/60000]\n",
      "loss: 0.037206  [50000/60000]\n",
      "Test Error: \n",
      " Accuracy: 96.2%, Avg loss: 0.132265 \n",
      "\n",
      "Done!\n"
     ]
    }
   ],
   "source": [
    "learning_rate = 0.1\n",
    "batch_size = 100\n",
    "epochs = 10\n",
    "loss_fn = nn.NLLLoss()\n",
    "optimizer = torch.optim.SGD(model.parameters(), lr=learning_rate)\n",
    "\n",
    "\n",
    "for t in range(epochs):\n",
    "    print(f\"Epoch {t+1}\\n-------------------------------\")\n",
    "    train_loop(train_dataloader, model, loss_fn, optimizer)\n",
    "    test_loop(test_dataloader, model, loss_fn)\n",
    "print(\"Done!\")"
   ]
  },
  {
   "cell_type": "code",
   "execution_count": 36,
   "metadata": {},
   "outputs": [
    {
     "name": "stderr",
     "output_type": "stream",
     "text": [
      "Downloading: \"https://download.pytorch.org/models/vgg16-397923af.pth\" to /Users/medlemine/.cache/torch/hub/checkpoints/vgg16-397923af.pth\n",
      "100%|██████████| 528M/528M [05:33<00:00, 1.66MB/s]   \n"
     ]
    }
   ],
   "source": [
    "import torchvision.models as models\n",
    "model = models.vgg16(pretrained=True)\n",
    "torch.save(model, 'model.pth')"
   ]
  },
  {
   "cell_type": "code",
   "execution_count": 105,
   "metadata": {},
   "outputs": [
    {
     "data": {
      "image/png": "[encoded data removed]",
      "text/plain": [
       "<Figure size 432x288 with 1 Axes>"
      ]
     },
     "metadata": {
      "needs_background": "light"
     },
     "output_type": "display_data"
    },
    {
     "name": "stdout",
     "output_type": "stream",
     "text": [
      "GroundTruth:  5     0     4     1     9     2     1     3     1     4     3     5     3     6     1     7     2     8     6     9     4     0     9     1     1     2     4     3     2     7     3     8     6     9     0     5     6     0     7     6     1     8     7     9     3     9     8     5     9     3     3     0     7     4     9     8     0     9     4     1     4     4     6     0    \n"
     ]
    }
   ],
   "source": [
    "import torchvision\n",
    "import numpy as np\n",
    "import matplotlib.pyplot as plt\n",
    "def imshow(img):\n",
    "    img = img / 2 + 0.5     \n",
    "    npimg = img.numpy()\n",
    "    plt.imshow(np.transpose(npimg, (1, 2, 0)))\n",
    "    plt.show()\n",
    "\n",
    "classes =(\"0\",\"1\",\"2\",\"3\",\"4\",\"5\",\"6\",\"7\",\"8\",\"9\")\n",
    "\n",
    "\n",
    "dataiter = iter(train_dataloader)\n",
    "images, labels = dataiter.next()\n",
    "\n",
    "\n",
    "\n",
    "imshow(torchvision.utils.make_grid(images))\n",
    "print('GroundTruth: ', ' '.join(f'{classes[labels[j]]:5s}' for j in range(64)))"
   ]
  },
  {
   "cell_type": "code",
   "execution_count": 106,
   "metadata": {},
   "outputs": [
    {
     "name": "stdout",
     "output_type": "stream",
     "text": [
      "Predicted:  5     0     4     1     9     2     1     3     1     4     3     5     3     6     1     7     2     8     6     9     4     0     9     1     1     2     4     3     2     7     3     8     6     9     0     5     6     0     7     6     1     8     7     9     3     9     8     5     9     3     3     0     7     4     9     8     0     9     4     1     4     4     6     0    \n"
     ]
    }
   ],
   "source": [
    "\n",
    "output=model(images)\n",
    "predicted = torch.max(output, 1)\n",
    "\n",
    "\n",
    "print('Predicted: ', ' '.join(f'{classes[predicted[1][j]]:5s}' for j in range(64)))"
   ]
  }
 ],
 "metadata": {
  "kernelspec": {
   "display_name": "Python 3.8.8 ('base')",
   "language": "python",
   "name": "python3"
  },
  "language_info": {
   "codemirror_mode": {
    "name": "ipython",
    "version": 3
   },
   "file_extension": ".py",
   "mimetype": "text/x-python",
   "name": "python",
   "nbconvert_exporter": "python",
   "pygments_lexer": "ipython3",
   "version": "3.8.8"
  },
  "orig_nbformat": 4,
  "vscode": {
   "interpreter": {
    "hash": "508cf13fc0dd5f6de55cf2739bdb693cd62d516cca87e1dd252323573ce7d6a9"
   }
  }
 },
 "nbformat": 4,
 "nbformat_minor": 2
}
